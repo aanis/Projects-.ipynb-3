{
  "nbformat": 4,
  "nbformat_minor": 0,
  "metadata": {
    "colab": {
      "name": "Diabetes.ipynb",
      "provenance": [],
      "collapsed_sections": [],
      "authorship_tag": "ABX9TyNQTJw9HRnLL8butInuUmvA",
      "include_colab_link": true
    },
    "kernelspec": {
      "name": "python3",
      "display_name": "Python 3"
    }
  },
  "cells": [
    {
      "cell_type": "markdown",
      "metadata": {
        "id": "view-in-github",
        "colab_type": "text"
      },
      "source": [
        "<a href=\"https://colab.research.google.com/github/lahorekid/crypto/blob/master/Diabetes.ipynb\" target=\"_parent\"><img src=\"https://colab.research.google.com/assets/colab-badge.svg\" alt=\"Open In Colab\"/></a>"
      ]
    },
    {
      "cell_type": "markdown",
      "metadata": {
        "id": "R8HjPk6nqsXw",
        "colab_type": "text"
      },
      "source": [
        "Diabetes Artificial Neural Network "
      ]
    },
    {
      "cell_type": "code",
      "metadata": {
        "id": "IvUiilxDGLZz",
        "colab_type": "code",
        "colab": {}
      },
      "source": [
        "# Importing the libraries\n",
        "import keras as ks\n",
        "import numpy as np\n",
        "import matplotlib.pyplot as plt\n",
        "import pandas as pd\n",
        "import h5py\n",
        "from keras.callbacks import ModelCheckpoint\n",
        "from datetime import datetime"
      ],
      "execution_count": 0,
      "outputs": []
    },
    {
      "cell_type": "code",
      "metadata": {
        "id": "8Xo3Bup8GZrw",
        "colab_type": "code",
        "colab": {}
      },
      "source": [
        "# Importing the Keras libraries and packages\n",
        "import keras\n",
        "from keras.models import Sequential\n",
        "from keras.layers import Dense\n"
      ],
      "execution_count": 0,
      "outputs": []
    },
    {
      "cell_type": "code",
      "metadata": {
        "id": "JUPlpvRpGgFF",
        "colab_type": "code",
        "colab": {}
      },
      "source": [
        "url = 'https://raw.githubusercontent.com/lahorekid/crypto/master/ANN-test.csv'"
      ],
      "execution_count": 0,
      "outputs": []
    },
    {
      "cell_type": "code",
      "metadata": {
        "id": "jlVHouBlHLa5",
        "colab_type": "code",
        "colab": {}
      },
      "source": [
        "dataset = pd.read_csv(url)"
      ],
      "execution_count": 0,
      "outputs": []
    },
    {
      "cell_type": "code",
      "metadata": {
        "id": "ZSBhGiovHYHy",
        "colab_type": "code",
        "colab": {
          "base_uri": "https://localhost:8080/",
          "height": 224
        },
        "outputId": "30645994-40d8-4897-ff51-b5224ad8a92b"
      },
      "source": [
        "dataset.head()"
      ],
      "execution_count": 194,
      "outputs": [
        {
          "output_type": "execute_result",
          "data": {
            "text/html": [
              "<div>\n",
              "<style scoped>\n",
              "    .dataframe tbody tr th:only-of-type {\n",
              "        vertical-align: middle;\n",
              "    }\n",
              "\n",
              "    .dataframe tbody tr th {\n",
              "        vertical-align: top;\n",
              "    }\n",
              "\n",
              "    .dataframe thead th {\n",
              "        text-align: right;\n",
              "    }\n",
              "</style>\n",
              "<table border=\"1\" class=\"dataframe\">\n",
              "  <thead>\n",
              "    <tr style=\"text-align: right;\">\n",
              "      <th></th>\n",
              "      <th>MRNO</th>\n",
              "      <th>GENDER</th>\n",
              "      <th>BSR</th>\n",
              "      <th>AGE</th>\n",
              "      <th>WEIGHT</th>\n",
              "      <th>HEIGHT</th>\n",
              "      <th>TEMPERATURE</th>\n",
              "      <th>PULSE</th>\n",
              "      <th>WAIST</th>\n",
              "      <th>BMI</th>\n",
              "      <th>DIAB_HIST_BURNING_FEET</th>\n",
              "      <th>DIAB_HIST_DT1</th>\n",
              "      <th>DIAB_HIST_DT2</th>\n",
              "      <th>DIAB_HIST_NOCTURIA</th>\n",
              "      <th>DIAB_HIST_POLYURIA</th>\n",
              "      <th>DIAB_HIST_POLYDYPSIA</th>\n",
              "      <th>DIAB_HIST_WEIGHT_LOSS</th>\n",
              "      <th>DIAB_HIST_DYSPEPSIA</th>\n",
              "      <th>DIAB_HIST_FEET_NUMBNESS</th>\n",
              "      <th>DIAB_HIST_BLURRING_VISION</th>\n",
              "      <th>DIAB_HIST_FATIGUE</th>\n",
              "      <th>DIAB_HIST_IHD</th>\n",
              "      <th>DAIB_RES_VESICULAR</th>\n",
              "      <th>DAIB_RES_RHONCHI</th>\n",
              "      <th>DAIB_RES_HARSH</th>\n",
              "      <th>DAIB_RES_CREPITATION</th>\n",
              "      <th>DAIB_RES_BRONCHIAL</th>\n",
              "      <th>DIAG</th>\n",
              "    </tr>\n",
              "  </thead>\n",
              "  <tbody>\n",
              "    <tr>\n",
              "      <th>0</th>\n",
              "      <td>56</td>\n",
              "      <td>MALE</td>\n",
              "      <td>227</td>\n",
              "      <td>67</td>\n",
              "      <td>82</td>\n",
              "      <td>172</td>\n",
              "      <td>98.8</td>\n",
              "      <td>88</td>\n",
              "      <td>96</td>\n",
              "      <td>27.72</td>\n",
              "      <td>0</td>\n",
              "      <td>0</td>\n",
              "      <td>1</td>\n",
              "      <td>0</td>\n",
              "      <td>0</td>\n",
              "      <td>0</td>\n",
              "      <td>0</td>\n",
              "      <td>0</td>\n",
              "      <td>0</td>\n",
              "      <td>0</td>\n",
              "      <td>0</td>\n",
              "      <td>0</td>\n",
              "      <td>1</td>\n",
              "      <td>0</td>\n",
              "      <td>0</td>\n",
              "      <td>0</td>\n",
              "      <td>0</td>\n",
              "      <td>DM1</td>\n",
              "    </tr>\n",
              "    <tr>\n",
              "      <th>1</th>\n",
              "      <td>499</td>\n",
              "      <td>FEMALE</td>\n",
              "      <td>262</td>\n",
              "      <td>57</td>\n",
              "      <td>76</td>\n",
              "      <td>152</td>\n",
              "      <td>98.0</td>\n",
              "      <td>86</td>\n",
              "      <td>98</td>\n",
              "      <td>32.89</td>\n",
              "      <td>0</td>\n",
              "      <td>0</td>\n",
              "      <td>1</td>\n",
              "      <td>0</td>\n",
              "      <td>1</td>\n",
              "      <td>0</td>\n",
              "      <td>0</td>\n",
              "      <td>0</td>\n",
              "      <td>0</td>\n",
              "      <td>0</td>\n",
              "      <td>0</td>\n",
              "      <td>0</td>\n",
              "      <td>1</td>\n",
              "      <td>0</td>\n",
              "      <td>0</td>\n",
              "      <td>0</td>\n",
              "      <td>0</td>\n",
              "      <td>DM1</td>\n",
              "    </tr>\n",
              "    <tr>\n",
              "      <th>2</th>\n",
              "      <td>499</td>\n",
              "      <td>FEMALE</td>\n",
              "      <td>262</td>\n",
              "      <td>57</td>\n",
              "      <td>74</td>\n",
              "      <td>152</td>\n",
              "      <td>98.2</td>\n",
              "      <td>80</td>\n",
              "      <td>97</td>\n",
              "      <td>32.03</td>\n",
              "      <td>0</td>\n",
              "      <td>0</td>\n",
              "      <td>1</td>\n",
              "      <td>0</td>\n",
              "      <td>1</td>\n",
              "      <td>0</td>\n",
              "      <td>0</td>\n",
              "      <td>0</td>\n",
              "      <td>0</td>\n",
              "      <td>0</td>\n",
              "      <td>0</td>\n",
              "      <td>0</td>\n",
              "      <td>1</td>\n",
              "      <td>0</td>\n",
              "      <td>0</td>\n",
              "      <td>0</td>\n",
              "      <td>0</td>\n",
              "      <td>DM1</td>\n",
              "    </tr>\n",
              "    <tr>\n",
              "      <th>3</th>\n",
              "      <td>583</td>\n",
              "      <td>MALE</td>\n",
              "      <td>538</td>\n",
              "      <td>48</td>\n",
              "      <td>69</td>\n",
              "      <td>165</td>\n",
              "      <td>98.0</td>\n",
              "      <td>86</td>\n",
              "      <td>93</td>\n",
              "      <td>25.34</td>\n",
              "      <td>0</td>\n",
              "      <td>0</td>\n",
              "      <td>1</td>\n",
              "      <td>0</td>\n",
              "      <td>0</td>\n",
              "      <td>0</td>\n",
              "      <td>1</td>\n",
              "      <td>0</td>\n",
              "      <td>0</td>\n",
              "      <td>0</td>\n",
              "      <td>0</td>\n",
              "      <td>0</td>\n",
              "      <td>1</td>\n",
              "      <td>0</td>\n",
              "      <td>0</td>\n",
              "      <td>0</td>\n",
              "      <td>0</td>\n",
              "      <td>DM2</td>\n",
              "    </tr>\n",
              "    <tr>\n",
              "      <th>4</th>\n",
              "      <td>583</td>\n",
              "      <td>MALE</td>\n",
              "      <td>538</td>\n",
              "      <td>48</td>\n",
              "      <td>69</td>\n",
              "      <td>165</td>\n",
              "      <td>98.6</td>\n",
              "      <td>82</td>\n",
              "      <td>93</td>\n",
              "      <td>25.34</td>\n",
              "      <td>0</td>\n",
              "      <td>0</td>\n",
              "      <td>1</td>\n",
              "      <td>0</td>\n",
              "      <td>0</td>\n",
              "      <td>0</td>\n",
              "      <td>1</td>\n",
              "      <td>0</td>\n",
              "      <td>0</td>\n",
              "      <td>0</td>\n",
              "      <td>0</td>\n",
              "      <td>0</td>\n",
              "      <td>1</td>\n",
              "      <td>0</td>\n",
              "      <td>0</td>\n",
              "      <td>0</td>\n",
              "      <td>0</td>\n",
              "      <td>DM2</td>\n",
              "    </tr>\n",
              "  </tbody>\n",
              "</table>\n",
              "</div>"
            ],
            "text/plain": [
              "   MRNO  GENDER  BSR  ...  DAIB_RES_CREPITATION  DAIB_RES_BRONCHIAL  DIAG\n",
              "0    56    MALE  227  ...                     0                   0   DM1\n",
              "1   499  FEMALE  262  ...                     0                   0   DM1\n",
              "2   499  FEMALE  262  ...                     0                   0   DM1\n",
              "3   583    MALE  538  ...                     0                   0   DM2\n",
              "4   583    MALE  538  ...                     0                   0   DM2\n",
              "\n",
              "[5 rows x 28 columns]"
            ]
          },
          "metadata": {
            "tags": []
          },
          "execution_count": 194
        }
      ]
    },
    {
      "cell_type": "code",
      "metadata": {
        "id": "ZVh3EJlqHdPm",
        "colab_type": "code",
        "colab": {}
      },
      "source": [
        "# Importing the dataset\n",
        "X = dataset.iloc[:, 1:26].values\n",
        "y = dataset.iloc[:, 27].values"
      ],
      "execution_count": 0,
      "outputs": []
    },
    {
      "cell_type": "code",
      "metadata": {
        "id": "4a9u5MAQPzOv",
        "colab_type": "code",
        "colab": {
          "base_uri": "https://localhost:8080/",
          "height": 34
        },
        "outputId": "1e757af4-4f8d-4c3d-b0ce-014e2ff5363e"
      },
      "source": [
        "y"
      ],
      "execution_count": 196,
      "outputs": [
        {
          "output_type": "execute_result",
          "data": {
            "text/plain": [
              "array(['DM1', 'DM1', 'DM1', ..., 'DM1', 'DM1', 'DM1'], dtype=object)"
            ]
          },
          "metadata": {
            "tags": []
          },
          "execution_count": 196
        }
      ]
    },
    {
      "cell_type": "code",
      "metadata": {
        "id": "klfyKXi5Hir6",
        "colab_type": "code",
        "colab": {}
      },
      "source": [
        "# Encoding categorical data\n",
        "from sklearn.preprocessing import LabelEncoder, OneHotEncoder\n",
        "labelencoder_X = LabelEncoder()\n",
        "X[:, 0] = labelencoder_X.fit_transform(X[:, 0])\n",
        "\n"
      ],
      "execution_count": 0,
      "outputs": []
    },
    {
      "cell_type": "code",
      "metadata": {
        "id": "RXinjBhPK34D",
        "colab_type": "code",
        "colab": {}
      },
      "source": [
        "from sklearn.compose import ColumnTransformer\n",
        "\n",
        "\n",
        "ct = ColumnTransformer(\n",
        "    [('one_hot_encoder', OneHotEncoder(), [0])],    # The column numbers to be transformed (here is [0] but can be [0, 1, 3])\n",
        "    remainder='passthrough'                         # Leave the rest of the columns untouched\n",
        ")\n",
        "\n",
        "X = np.array(ct.fit_transform(X), dtype=np.float)\n",
        "\n",
        "X = X[:, 1:]\n",
        "\n"
      ],
      "execution_count": 0,
      "outputs": []
    },
    {
      "cell_type": "code",
      "metadata": {
        "id": "kVHKUiswNs7Y",
        "colab_type": "code",
        "colab": {
          "base_uri": "https://localhost:8080/",
          "height": 136
        },
        "outputId": "dd72eab1-ee1c-40d0-c2b5-28fe04b74747"
      },
      "source": [
        "X"
      ],
      "execution_count": 199,
      "outputs": [
        {
          "output_type": "execute_result",
          "data": {
            "text/plain": [
              "array([[  1., 227.,  67., ...,   0.,   0.,   0.],\n",
              "       [  0., 262.,  57., ...,   0.,   0.,   0.],\n",
              "       [  0., 262.,  57., ...,   0.,   0.,   0.],\n",
              "       ...,\n",
              "       [  1., 360.,  43., ...,   0.,   0.,   0.],\n",
              "       [  1., 360.,  43., ...,   0.,   0.,   0.],\n",
              "       [  1., 360.,  43., ...,   0.,   0.,   0.]])"
            ]
          },
          "metadata": {
            "tags": []
          },
          "execution_count": 199
        }
      ]
    },
    {
      "cell_type": "code",
      "metadata": {
        "id": "J6kOLmYEM2kE",
        "colab_type": "code",
        "colab": {}
      },
      "source": [
        "from sklearn.preprocessing import LabelEncoder, OneHotEncoder\n",
        "from sklearn import preprocessing\n",
        "\n",
        "\n",
        "\n",
        "labelencoder_y = LabelEncoder()\n",
        "y = labelencoder_y.fit_transform(y)\n",
        "\n"
      ],
      "execution_count": 0,
      "outputs": []
    },
    {
      "cell_type": "code",
      "metadata": {
        "id": "QVgIW3inNvcO",
        "colab_type": "code",
        "colab": {
          "base_uri": "https://localhost:8080/",
          "height": 34
        },
        "outputId": "a6d0b65e-209e-4066-f6fd-b1ccea8ed18f"
      },
      "source": [
        "y"
      ],
      "execution_count": 201,
      "outputs": [
        {
          "output_type": "execute_result",
          "data": {
            "text/plain": [
              "array([0, 0, 0, ..., 0, 0, 0])"
            ]
          },
          "metadata": {
            "tags": []
          },
          "execution_count": 201
        }
      ]
    },
    {
      "cell_type": "code",
      "metadata": {
        "id": "fVHx8j_4M6Pn",
        "colab_type": "code",
        "colab": {}
      },
      "source": [
        "# Splitting the dataset into the Training set and Test set\n",
        "from sklearn.model_selection import train_test_split\n",
        "X_train, X_test, y_traind, y_testd = train_test_split(X, y, test_size = 0.2, random_state = 0)\n",
        "\n",
        "\n",
        "y_train = ks.utils.to_categorical(y_traind, num_classes=3)\n",
        "y_test = ks.utils.to_categorical(y_testd, num_classes=3)\n"
      ],
      "execution_count": 0,
      "outputs": []
    },
    {
      "cell_type": "code",
      "metadata": {
        "id": "bUhHOGluSvJJ",
        "colab_type": "code",
        "colab": {}
      },
      "source": [
        "# Feature Scaling\n",
        "from sklearn.preprocessing import StandardScaler\n",
        "scaler = StandardScaler()\n",
        "X_train = scaler.fit_transform(X_train)\n",
        "X_test = scaler.transform(X_test)"
      ],
      "execution_count": 0,
      "outputs": []
    },
    {
      "cell_type": "code",
      "metadata": {
        "id": "RnUmip7uUmNf",
        "colab_type": "code",
        "colab": {
          "base_uri": "https://localhost:8080/",
          "height": 238
        },
        "outputId": "457fd260-5ad9-409b-ac08-e3faa7773a0f"
      },
      "source": [
        "X_test"
      ],
      "execution_count": 204,
      "outputs": [
        {
          "output_type": "execute_result",
          "data": {
            "text/plain": [
              "array([[-6.77366403e-01, -1.01520118e+00, -1.39871784e+00, ...,\n",
              "        -6.49146046e-02, -5.20083528e-02, -6.79491222e-02],\n",
              "       [ 1.47630587e+00, -1.22262070e+00,  4.95412833e-01, ...,\n",
              "        -6.49146046e-02, -5.20083528e-02, -6.79491222e-02],\n",
              "       [ 1.47630587e+00, -7.80726938e-01,  1.29178746e-03, ...,\n",
              "        -6.49146046e-02, -5.20083528e-02, -6.79491222e-02],\n",
              "       ...,\n",
              "       [-6.77366403e-01,  8.33538018e-01,  1.29178746e-03, ...,\n",
              "        -6.49146046e-02, -5.20083528e-02, -6.79491222e-02],\n",
              "       [-6.77366403e-01, -1.16851126e+00,  4.95412833e-01, ...,\n",
              "        -6.49146046e-02, -5.20083528e-02, -6.79491222e-02],\n",
              "       [-6.77366403e-01,  1.03193930e+00,  7.42473355e-01, ...,\n",
              "        -6.49146046e-02, -5.20083528e-02, -6.79491222e-02]])"
            ]
          },
          "metadata": {
            "tags": []
          },
          "execution_count": 204
        }
      ]
    },
    {
      "cell_type": "code",
      "metadata": {
        "id": "LSywe8ALVFqb",
        "colab_type": "code",
        "colab": {}
      },
      "source": [
        "input_layer_nodes=13\n",
        "hidden_layers_nodes = 350\n",
        "output_layer_nodes=3\n",
        "init='uniform'\n",
        "optimizers='adam'\n",
        "output_activation='softmax'\n",
        "activation='relu'\n",
        "\n",
        "# Initialising the ANN\n",
        "classifier = Sequential()\n",
        "\n",
        "# Adding the input layer and the first hidden layer\n",
        "classifier.add(Dense(units=input_layer_nodes, kernel_initializer=init, activation='relu', input_dim=25))\n",
        "\n",
        "# Adding the 1 hidden layer\n",
        "classifier.add(Dense(units = hidden_layers_nodes, kernel_initializer = init, activation='relu'))\n",
        "\n",
        "# Adding the 2 hidden layer\n",
        "classifier.add(Dense(units = hidden_layers_nodes, kernel_initializer = init, activation='relu'))\n",
        "\n",
        "# Adding the 3 hidden layer\n",
        "classifier.add(Dense(units = hidden_layers_nodes, kernel_initializer = init, activation='relu'))\n",
        "\n",
        "# Adding the 4 hidden layer\n",
        "classifier.add(Dense(units = hidden_layers_nodes, kernel_initializer = init, activation='relu'))\n",
        "\n",
        "# Adding the 5 hidden layer\n",
        "classifier.add(Dense(units = hidden_layers_nodes, kernel_initializer = init, activation='relu'))\n",
        "\n",
        "# Adding the 6 hidden layer\n",
        "classifier.add(Dense(units = hidden_layers_nodes, kernel_initializer = init, activation='relu'))\n",
        "\n",
        "# Adding the 7 hidden layer\n",
        "classifier.add(Dense(units = hidden_layers_nodes, kernel_initializer = init, activation='relu'))\n",
        "\n",
        "# Adding the 8 hidden layer\n",
        "classifier.add(Dense(units = hidden_layers_nodes, kernel_initializer = init, activation='relu'))\n",
        "\n",
        "# Adding the 9 hidden layer\n",
        "classifier.add(Dense(units = hidden_layers_nodes, kernel_initializer = init, activation='relu'))\n",
        "\n",
        "# Adding the 10 hidden layer\n",
        "classifier.add(Dense(units = hidden_layers_nodes, kernel_initializer = init, activation='relu'))\n",
        "\n",
        "\n",
        "# Adding the output layer\n",
        "classifier.add(Dense(units = output_layer_nodes, kernel_initializer = init, activation=output_activation))\n",
        "\n",
        "# Compiling the ANN\n",
        "classifier.compile(optimizer=optimizers, loss='categorical_crossentropy', metrics=['accuracy'])"
      ],
      "execution_count": 0,
      "outputs": []
    },
    {
      "cell_type": "code",
      "metadata": {
        "id": "tQnz0It7V0XB",
        "colab_type": "code",
        "colab": {
          "base_uri": "https://localhost:8080/",
          "height": 187
        },
        "outputId": "1eb1b9ce-43f3-4e2f-8768-3df8a5c2003c"
      },
      "source": [
        "# Fitting the ANN to the Training set\n",
        "classifier.fit(X_train, y_train, validation_split=0.15, batch_size=20, epochs=2, callbacks=callbacks_list)\n",
        "#classifier.fit(X_train, y_train, validation_data=(X_test, y_test), batch_size=10, epochs=250, callbacks=callbacks_list)"
      ],
      "execution_count": 206,
      "outputs": [
        {
          "output_type": "stream",
          "text": [
            "Train on 8507 samples, validate on 1502 samples\n",
            "Epoch 1/2\n",
            "8507/8507 [==============================] - 12s 1ms/step - loss: 0.7665 - acc: 0.7116 - val_loss: 0.7167 - val_acc: 0.7264\n",
            "\n",
            "Epoch 00001: val_acc did not improve from 0.74834\n",
            "Epoch 2/2\n",
            "8507/8507 [==============================] - 11s 1ms/step - loss: 0.7129 - acc: 0.7323 - val_loss: 0.7152 - val_acc: 0.7344\n",
            "\n",
            "Epoch 00002: val_acc did not improve from 0.74834\n"
          ],
          "name": "stdout"
        },
        {
          "output_type": "execute_result",
          "data": {
            "text/plain": [
              "<keras.callbacks.History at 0x7f29e9e14780>"
            ]
          },
          "metadata": {
            "tags": []
          },
          "execution_count": 206
        }
      ]
    },
    {
      "cell_type": "code",
      "metadata": {
        "id": "3BZIdNCOmpdG",
        "colab_type": "code",
        "colab": {}
      },
      "source": [
        "# Predicting the Test set results\n",
        "y_pred = classifier.predict(X_test)\n",
        "y_pred = (y_pred > 0.5)"
      ],
      "execution_count": 0,
      "outputs": []
    },
    {
      "cell_type": "code",
      "metadata": {
        "id": "eWJkEjubpM8U",
        "colab_type": "code",
        "colab": {
          "base_uri": "https://localhost:8080/",
          "height": 292
        },
        "outputId": "f285bd19-3917-442b-9f93-3382c54039d2"
      },
      "source": [
        "from sklearn.metrics import classification_report\n",
        "print(classification_report(y_test, y_pred))"
      ],
      "execution_count": 228,
      "outputs": [
        {
          "output_type": "stream",
          "text": [
            "              precision    recall  f1-score   support\n",
            "\n",
            "           0       0.75      0.99      0.85      1749\n",
            "           1       1.00      0.00      0.01       505\n",
            "           2       0.00      0.00      0.00       249\n",
            "\n",
            "   micro avg       0.75      0.69      0.72      2503\n",
            "   macro avg       0.58      0.33      0.29      2503\n",
            "weighted avg       0.73      0.69      0.60      2503\n",
            " samples avg       0.69      0.69      0.69      2503\n",
            "\n"
          ],
          "name": "stdout"
        },
        {
          "output_type": "stream",
          "text": [
            "/usr/local/lib/python3.6/dist-packages/sklearn/metrics/_classification.py:1272: UndefinedMetricWarning: Precision and F-score are ill-defined and being set to 0.0 in labels with no predicted samples. Use `zero_division` parameter to control this behavior.\n",
            "  _warn_prf(average, modifier, msg_start, len(result))\n",
            "/usr/local/lib/python3.6/dist-packages/sklearn/metrics/_classification.py:1272: UndefinedMetricWarning: Precision and F-score are ill-defined and being set to 0.0 in samples with no predicted labels. Use `zero_division` parameter to control this behavior.\n",
            "  _warn_prf(average, modifier, msg_start, len(result))\n"
          ],
          "name": "stderr"
        }
      ]
    }
  ]
}